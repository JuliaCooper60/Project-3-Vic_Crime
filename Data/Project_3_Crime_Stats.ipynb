{
 "cells": [
  {
   "cell_type": "markdown",
   "id": "38613e73",
   "metadata": {},
   "source": [
    "## 1. Set up, data ingestion and conversion of excel table to CSV and a list of data frames"
   ]
  },
  {
   "cell_type": "markdown",
   "id": "7b5b2a25",
   "metadata": {},
   "source": [
    "### 1.1 Import dependencies"
   ]
  },
  {
   "cell_type": "code",
   "execution_count": 1,
   "id": "6ca873cb",
   "metadata": {},
   "outputs": [],
   "source": [
    "import pandas as pd\n",
    "# !pip install openpyxl\n",
    "import openpyxl\n",
    "from sqlalchemy import create_engine\n",
    "import sqlite3 as sql\n",
    "import pandas as pd\n"
   ]
  },
  {
   "cell_type": "markdown",
   "id": "bceded72",
   "metadata": {},
   "source": [
    "### 1.2 Retrieve data from excel files"
   ]
  },
  {
   "cell_type": "code",
   "execution_count": 2,
   "id": "87f96f98",
   "metadata": {},
   "outputs": [],
   "source": [
    "excel_file = 'Data_Tables_LGA_Criminal_Incidents_Year_Ending_March_2022.xlsx'\n",
    "all_sheets = pd.read_excel(excel_file, sheet_name=None)\n",
    "sheets = all_sheets.keys()\n",
    "\n",
    "for sheet_name in sheets:\n",
    "    sheet = pd.read_excel(excel_file, sheet_name=sheet_name)\n",
    "    sheet.to_csv(\"%s.csv\" % sheet_name, index=False)"
   ]
  },
  {
   "cell_type": "markdown",
   "id": "32e0640f",
   "metadata": {},
   "source": [
    "Contents\n",
    "Table 01\n",
    "\n",
    "Criminal incidents and rate per 100,000 population by police region and local government area - April 2012 to March 2022\n",
    "Table 02\n",
    "\n",
    "Criminal incidents and rate per 100,000 population by principal offence, local government area and police service area - April 2012 to March 2022\n",
    "Table 03\n",
    "\n",
    "Criminal incidents by principal offence, local government area and postcode or suburb/town - April 2012 to March 2022\n",
    "Table 04\n",
    "\n",
    "Criminal incidents by location type and local government area - April 2012 to March 2022\n",
    "Table 05\n",
    "\n",
    "Criminal incidents by charge status and local government area - April 2012 to March 2022\n",
    "Data exclusions\n",
    "Table 01\n",
    "\n",
    "excludes criminal incidents where the geographic location is unknown. For further information of these geographic locations please refer to the Explanatory Notes and Glossary on the website.\n",
    "Tables 02 - 05\n",
    "\n",
    "excludes criminal incidents at Justice institutions and immigration facilities, Unincorporated Victoria and where the geographic location is unknown. For further information of these geographic locations please refer to the Explanatory Notes and Glossary on the website.\n",
    "Notes\n",
    "Recorded crime statistics are based on data extracted by Victoria police on the 18th day after the reference period, and are subject to movement between releases. For more information about how statistics are compiled, refer to the Explanatory notes on the CSA website.\n",
    "In order to maintain confidentiality, sensitive offence counts for subdivisions 'A10 Homicide and related offences' and 'A30 Sexual offences' with a value of 3 or less are given a value of 2 to calculate totals. Rates are based on populations provided by the Australian Bureau of Statistics (ABS). The most recent year of data was not available from the ABS in time for it to be used to calculate current year rates. The CSA uses estimates created by the Victorian State Government 'Victoria in Futures' report.\n",
    "This work is licenced under a Creative Commons Attribution 4.0 International License. When reporting this data you must attribute the Crime Statistics Agency (or CSA) as the source."
   ]
  },
  {
   "cell_type": "markdown",
   "id": "43e082ee",
   "metadata": {},
   "source": [
    "### 1.3 Loop thru excel file to convert various worksheets to csv files"
   ]
  },
  {
   "cell_type": "code",
   "execution_count": 3,
   "id": "941dcc59",
   "metadata": {},
   "outputs": [
    {
     "data": {
      "text/plain": [
       "['Table 01.csv',\n",
       " 'Table 02.csv',\n",
       " 'Table 03.csv',\n",
       " 'Table 04.csv',\n",
       " 'Table 05.csv',\n",
       " 'Table 06.csv']"
      ]
     },
     "execution_count": 3,
     "metadata": {},
     "output_type": "execute_result"
    }
   ],
   "source": [
    "#Create list of dataframes from csv files\n",
    "file_list = []\n",
    "for i in range(1,7):\n",
    "    file_list.append(f\"Table 0{i}.csv\")\n",
    "\n",
    "df_list = [pd.read_csv(file) for file in file_list]\n",
    "file_list"
   ]
  },
  {
   "cell_type": "markdown",
   "id": "898bcac3",
   "metadata": {},
   "source": [
    "## 2. Data cleaning and organization"
   ]
  },
  {
   "cell_type": "markdown",
   "id": "1e1145ea",
   "metadata": {},
   "source": [
    "### 2.1 Create a data frame that matches Police Regions with LGAs. \n",
    "\n",
    "#### Table 01.csv shows the number of incidents by Police Region and LGA – it is is the only table that shows the Police Region.\n",
    "#### The Police Region is required for filtering within the data visualisation \n"
   ]
  },
  {
   "cell_type": "code",
   "execution_count": 4,
   "id": "23209b10",
   "metadata": {},
   "outputs": [],
   "source": [
    "# 2.1.1 create data frame\n",
    "region_lga_df = pd.read_csv(\"Table 01.csv\")\n",
    "#region_lga_df"
   ]
  },
  {
   "cell_type": "code",
   "execution_count": 5,
   "id": "65f0e880",
   "metadata": {},
   "outputs": [],
   "source": [
    "# 2.1.2 strip out blanks from Local Government Area(LGA) and drop duplcates to \n",
    "# create a datafream that matched Police Regions to LGA\n",
    "region_lga_df[\"Local Government Area\"] = region_lga_df[\"Local Government Area\"].str.strip()\n",
    "region_lga_map_df =region_lga_df[[\"Local Government Area\",\"Police Region\"]].drop_duplicates().reset_index(drop=True)\n",
    "# region_lga_map_df.info()\n",
    "# region_lga_map_df.head()\n"
   ]
  },
  {
   "cell_type": "markdown",
   "id": "e8e63cf6",
   "metadata": {},
   "source": [
    "### 2.2 Create and clean LGA_Offence_df_2019_2022 from Table 02 which is more granular in terms of both geographical areas and offence types.\n",
    "#### Specifically, Table 02.csv holds data at Police Area, LGA, postcode and town/suburb areas as well as all three Offence categories form 2013 to 2022. It is missing the Police Region Area level "
   ]
  },
  {
   "cell_type": "code",
   "execution_count": 6,
   "id": "04b070eb",
   "metadata": {
    "scrolled": false
   },
   "outputs": [],
   "source": [
    "# 2.2.1 Exract rows that are greater than year 2018 (use 4 years data, 2019-2022) \n",
    "# and drop column 'Year ending' as the crime tables are created on March (no date details) every year.\n",
    "lga_offence_2019_2022_df = df_list[1].loc[df_list[1].Year > 2018].drop ('Year ending', axis=1)\n",
    "# lga_offence_2019_2022_df.info()"
   ]
  },
  {
   "cell_type": "code",
   "execution_count": 13,
   "id": "2ce1cc4a",
   "metadata": {},
   "outputs": [],
   "source": [
    "# 2.2.2. Join Police Region onto the lga_offence_2019_2022_df\n",
    "region_psa_lga_offence_2019_2022_df=pd.merge(lga_offence_2019_2022_df, region_lga_df [[\"Police Region\",\"Local Government Area\"]],\n",
    "       on=\"Local Government Area\")\n",
    "\n",
    "offence_2019_2022_df = region_psa_lga_offence_2019_2022_df.drop_duplicates()\n",
    "# offence_2019_2022_df.head()"
   ]
  },
  {
   "cell_type": "markdown",
   "id": "0a30bff4",
   "metadata": {},
   "source": [
    "## 3. Transform Data for Analysis 1 - overview of Offence type by Offence Division by Year "
   ]
  },
  {
   "cell_type": "markdown",
   "id": "9b5f90ce",
   "metadata": {},
   "source": [
    "#### 3.1 Create a total number of incidents variable to enable the total number of incidents by all LGAs to be shown on the 'Number of Incidents by Offence Division' chart js under an 'All' category"
   ]
  },
  {
   "cell_type": "code",
   "execution_count": 7,
   "id": "c77b6ded",
   "metadata": {},
   "outputs": [],
   "source": [
    "# create and save groupby offence division - DONE - See below  \n",
    "# then sum up incidents recorded record output to a variable - DONE - see below \n",
    "# pd.concat to filter_df save as json file  THIS IS MY QUESTION!!!\n",
    "# n_incidents_OD_df = offence_2019_2022_df.groupby(\"Offence Division\")[\"Incidents Recorded\"].sum()\n",
    "# n_incidents_OD_df.head()"
   ]
  },
  {
   "cell_type": "markdown",
   "id": "f9a1f993",
   "metadata": {},
   "source": [
    "#### 3.2 Create a Offence Division Summary df to enable a high-level view of the number of Offences by Offence Category by Year ( analysis 1)\n",
    "\n"
   ]
  },
  {
   "cell_type": "code",
   "execution_count": 8,
   "id": "98d6bb79",
   "metadata": {},
   "outputs": [
    {
     "name": "stdout",
     "output_type": "stream",
     "text": [
      "<class 'pandas.core.frame.DataFrame'>\n",
      "RangeIndex: 320 entries, 0 to 319\n",
      "Data columns (total 8 columns):\n",
      " #   Column                                Non-Null Count  Dtype  \n",
      "---  ------                                --------------  -----  \n",
      " 0   Year                                  320 non-null    int64  \n",
      " 1   Local Government Area                 320 non-null    object \n",
      " 2   A Crimes against the person           320 non-null    int64  \n",
      " 3   B Property and deception offences     320 non-null    int64  \n",
      " 4   C Drug offences                       318 non-null    float64\n",
      " 5   D Public order and security offences  320 non-null    int64  \n",
      " 6   E Justice procedures offences         320 non-null    int64  \n",
      " 7   F Other offences                      311 non-null    float64\n",
      "dtypes: float64(2), int64(5), object(1)\n",
      "memory usage: 20.1+ KB\n"
     ]
    }
   ],
   "source": [
    "offence_division_summary_df = df_list[5]\n",
    "#    .drop('Year ending',axis=1)\n",
    "offence_division_summary_df.info()"
   ]
  },
  {
   "cell_type": "code",
   "execution_count": 9,
   "id": "ef3401ae",
   "metadata": {},
   "outputs": [],
   "source": [
    "# 3.2.1  Join Police Region onto the offence_division_summary_df\n",
    "offence_division_region_df=pd.merge(offence_division_summary_df, region_lga_df [[\"Police Region\",\"Local Government Area\"]],\n",
    "       on=\"Local Government Area\")\n",
    "\n",
    "offence_division_region_df= offence_division_region_df.drop_duplicates()\n",
    "# offence_division_region_df"
   ]
  },
  {
   "cell_type": "markdown",
   "id": "725c196d",
   "metadata": {},
   "source": [
    "#####My first attempt below ... that did not work - \n",
    "\n",
    "# here are othere oiptions - do ou think they will work? \n",
    "\n",
    "# Use DataFrame.sum() method\n",
    "df2 = df['math'].sum()\n",
    "\n",
    "# Using DataFrame.sum() method \n",
    "df2 = sum(df['math'])\n",
    "\n",
    "# Use DataFrame.loc[] and pandas.Series() to get total of columns\n",
    "df.loc['Total'] = pd.Series(df['math'].sum(), index = ['math'])\n",
    "\n",
    "# Get total of columns using DataFrame.loc[] method\n",
    "df.loc['Total'] = df[\"math\"].sum()\n",
    "\n",
    "# Use DataFrame.loc[] & DataFrame.sum() Method\n",
    "df.loc[\"Total\", \"math\"] = df.math.sum()\n",
    "\n",
    "# Use DataFrame.at[] method to get total of columns\n",
    "df.at['Total', \"math\"] = df[\"math\"].sum()\n",
    "\n",
    "# Use DataFrame.append() method\n",
    "df2 = df.append(pd.DataFrame(df.math.sum(), index = [\"Total\"], columns=[ \"math\"]))\n",
    "print(df2)\n"
   ]
  },
  {
   "cell_type": "code",
   "execution_count": 10,
   "id": "35e2aebb",
   "metadata": {},
   "outputs": [],
   "source": [
    "# Join n_incidents_OD  nto the lga_offence_2019_2022_df\n",
    "# attempt 1\n",
    "# offence_division_summary_df =pd.merge(lga_offence_2019_2022_df, n_incidents_OD_df[[\"offence Division\"]],\n",
    "\n",
    "       # on=\"Local Government Area\").set_index('Year')\n",
    "\n",
    "# attempt 2 - outcome \n",
    "# offence_division_summary_df3 = pd.concat([offence_division_summary_df, n_incidents_OD_df], ignore_index=True, sort=False)\n",
    "# offence_division_summary_df3\n",
    "\n",
    "#attempt 3 \n",
    "# data =offence_division_summary_df, n_incidents_OD_df\n",
    "# offence_division_summary_df4 = pd.concat (data)\n",
    "# offence_division_summary_df4 \n",
    "\n",
    "#attempt 4\n",
    "# offence_division_summary_df4 = pd.concat([offence_division_summary_df, n_incidents_OD_df], axis=1, join='inner')\n",
    "# offence_division_summary_df4 \n",
    "\n",
    "#attempt 5 - nearly there need to add year and change Nan in \"Year\" to the relevant year and NaN in \"Local Government Area\" tp \"All\"\n",
    "# offence_division_summary_df4 = offence_division_summary_df.append(n_incidents_OD_df, ignore_index=True)\n",
    "\n",
    "# offence_division_summary_df4['Local Government Area'] = offence_division_summary_df4['Local Government Area'].replace(['NaN'],'All')\n",
    "# # offence_division_summary_df4.info()\n",
    "# offence_division_summary_df4"
   ]
  },
  {
   "cell_type": "code",
   "execution_count": null,
   "id": "8531dac8",
   "metadata": {},
   "outputs": [],
   "source": []
  },
  {
   "cell_type": "code",
   "execution_count": 9,
   "id": "59f79432",
   "metadata": {},
   "outputs": [],
   "source": [
    "# offence_division_summary_df=pd.merge(offence_division_summary_df, region_lga_df [[\"Police Region\",\"Local Government Area\"]],\n",
    "#        on=\"Local Government Area\")\n",
    "\n",
    "# offence_division_summary_2019_2022_df = offence_division_summary_df.drop_duplicates()\n",
    "# offence_division_summary_2019_2022_df.head()"
   ]
  },
  {
   "cell_type": "code",
   "execution_count": 10,
   "id": "232775d8",
   "metadata": {},
   "outputs": [
    {
     "data": {
      "text/plain": [
       "['2 Eastern', '4 Western', '1 North West Metro', '3 Southern Metro']"
      ]
     },
     "execution_count": 10,
     "metadata": {},
     "output_type": "execute_result"
    }
   ],
   "source": [
    "# 3.2.2.Create a list of Police Regions to enable filtering by Police Region\n",
    "policeRegions = offence_division_region_df['Police Region'].unique().tolist()\n",
    "policeRegions"
   ]
  },
  {
   "cell_type": "code",
   "execution_count": 11,
   "id": "9c56014e",
   "metadata": {},
   "outputs": [],
   "source": [
    "# 3.2.3.Create a list of LGAs to enable filtering by LGA\n",
    "\n",
    "lgas = offence_division_summary_df['Local Government Area'].unique().tolist()\n",
    "# lgas"
   ]
  },
  {
   "cell_type": "markdown",
   "id": "54c3ebd1",
   "metadata": {},
   "source": [
    "### 3.3 Save as CSV and export as JSON file"
   ]
  },
  {
   "cell_type": "code",
   "execution_count": 12,
   "id": "6f53829a",
   "metadata": {},
   "outputs": [],
   "source": [
    "\n",
    "\n",
    "import json\n",
    "\n",
    "payload = {}\n",
    "\n",
    "for lga in offence_division_summary_df['Local Government Area'].unique().tolist():\n",
    "    df = offence_division_summary_df.loc[offence_division_summary_df['Local Government Area'] == lga].groupby\\\n",
    "        (['Local Government Area','Year']).agg(sum).reset_index().drop('Local Government Area',axis =1).set_index('Year')\n",
    "    df\n",
    "    dataStackedBar = {'labels': df.index.tolist(),'datasets':[]}\n",
    "\n",
    "    colors = ['#cbd4c2ff','#dbebc0ff','#c3b299ff','#815355ff','#523249ff','#000000']\n",
    "    color = 0\n",
    "    for col in df.columns:\n",
    "        dataStackedBar['datasets'].append({\n",
    "            'label': col,\n",
    "            'data': df[col].values.tolist(),\n",
    "            'backgroundColor': colors[color]\n",
    "        })\n",
    "        color += 1\n",
    "    payload[lga] = dataStackedBar\n",
    "\n",
    "with open('bardata.json','w') as output:\n",
    "    json.dump(payload,output)"
   ]
  },
  {
   "cell_type": "markdown",
   "id": "cda7fa4f",
   "metadata": {},
   "source": [
    "## 4. Create 2022 data frame for Analysis 3 - Crime patterns for 2022 by Offence Types"
   ]
  },
  {
   "cell_type": "code",
   "execution_count": 13,
   "id": "3646f1c3",
   "metadata": {},
   "outputs": [],
   "source": [
    "lga_offence_2022_df = df_list[1].loc[df_list[1].Year > 2021].drop ('Year ending', axis=1)\n",
    "# lga_offence_2022_df\n",
    "lga_offence_2022_df2=pd.merge(lga_offence_2022_df, region_lga_df [[\"Police Region\",\"Local Government Area\"]],\n",
    "       on=\"Local Government Area\")\n",
    "\n",
    "offence_2022_df=lga_offence_2022_df2.drop_duplicates()\n",
    "# offence_2022_df\n",
    "# offence_2022_df= offence_2019_2022_df[offence_2019_2022_df].Year > 2021"
   ]
  },
  {
   "cell_type": "markdown",
   "id": "91bdc417",
   "metadata": {},
   "source": [
    "## 5. Export dataframes to csv files for checking data quality"
   ]
  },
  {
   "cell_type": "code",
   "execution_count": 14,
   "id": "784be5fd",
   "metadata": {},
   "outputs": [],
   "source": [
    "offence_division_summary_df.to_csv('Offence_division_summary.csv',index=0)\n",
    "crime_offence_division_summary = pd.read_csv('Offence_division_summary.csv')"
   ]
  },
  {
   "cell_type": "code",
   "execution_count": 44,
   "id": "5f08ac42",
   "metadata": {},
   "outputs": [],
   "source": [
    "offence_2019_2022_df.to_csv('crime_data_2019_2022.csv',index=0)\n",
    "crime_offence_2019_2022 = pd.read_csv('crime_data_2019_2022.csv')"
   ]
  },
  {
   "cell_type": "code",
   "execution_count": 15,
   "id": "14ab854f",
   "metadata": {},
   "outputs": [],
   "source": [
    "offence_2022_df.to_csv('crime_data_2022.csv',index=0)\n",
    "crime_offence_2022_ = pd.read_csv('crime_data_2022.csv')"
   ]
  },
  {
   "cell_type": "markdown",
   "id": "b2655ea4",
   "metadata": {},
   "source": [
    "## 6. Connect to Data Base"
   ]
  },
  {
   "cell_type": "code",
   "execution_count": 21,
   "id": "cf22ffdc",
   "metadata": {},
   "outputs": [
    {
     "ename": "NameError",
     "evalue": "name 'crime' is not defined",
     "output_type": "error",
     "traceback": [
      "\u001b[0;31m---------------------------------------------------------------------------\u001b[0m",
      "\u001b[0;31mNameError\u001b[0m                                 Traceback (most recent call last)",
      "\u001b[0;32m/var/folders/h4/302vnt9j1kb09wlh6m55qbt40000gn/T/ipykernel_53034/1812437704.py\u001b[0m in \u001b[0;36m<module>\u001b[0;34m\u001b[0m\n\u001b[1;32m      1\u001b[0m \u001b[0mconn\u001b[0m \u001b[0;34m=\u001b[0m \u001b[0msql\u001b[0m\u001b[0;34m.\u001b[0m\u001b[0mconnect\u001b[0m\u001b[0;34m(\u001b[0m\u001b[0;34m'crime.db'\u001b[0m\u001b[0;34m)\u001b[0m\u001b[0;34m\u001b[0m\u001b[0;34m\u001b[0m\u001b[0m\n\u001b[0;32m----> 2\u001b[0;31m \u001b[0mcrime\u001b[0m\u001b[0;34m.\u001b[0m\u001b[0mto_sql\u001b[0m\u001b[0;34m(\u001b[0m\u001b[0;34m'crime_offence_2019_2022'\u001b[0m\u001b[0;34m,\u001b[0m \u001b[0mconn\u001b[0m\u001b[0;34m)\u001b[0m\u001b[0;34m\u001b[0m\u001b[0;34m\u001b[0m\u001b[0m\n\u001b[0m",
      "\u001b[0;31mNameError\u001b[0m: name 'crime' is not defined"
     ]
    }
   ],
   "source": [
    "conn = sql.connect('crime.db')\n",
    "crime.to_sql('crime_offence_2019_2022', conn)"
   ]
  },
  {
   "cell_type": "code",
   "execution_count": 17,
   "id": "2631351d",
   "metadata": {},
   "outputs": [],
   "source": [
    "all_df = pd.read_sql('SELECT * FROM crime_offence_2019_2022', conn)"
   ]
  },
  {
   "cell_type": "code",
   "execution_count": 18,
   "id": "477a1590",
   "metadata": {},
   "outputs": [
    {
     "ename": "KeyError",
     "evalue": "'Offence Division'",
     "output_type": "error",
     "traceback": [
      "\u001b[0;31m---------------------------------------------------------------------------\u001b[0m",
      "\u001b[0;31mKeyError\u001b[0m                                  Traceback (most recent call last)",
      "\u001b[0;32m/var/folders/h4/302vnt9j1kb09wlh6m55qbt40000gn/T/ipykernel_53034/2326558505.py\u001b[0m in \u001b[0;36m<module>\u001b[0;34m\u001b[0m\n\u001b[0;32m----> 1\u001b[0;31m \u001b[0mfilter_df\u001b[0m \u001b[0;34m=\u001b[0m \u001b[0mall_df\u001b[0m\u001b[0;34m.\u001b[0m\u001b[0mgroupby\u001b[0m\u001b[0;34m(\u001b[0m\u001b[0;34m[\u001b[0m\u001b[0;34m\"Year\"\u001b[0m\u001b[0;34m,\u001b[0m\u001b[0;34m\"Offence Division\"\u001b[0m\u001b[0;34m,\u001b[0m\u001b[0;34m\"Offence Subdivision\"\u001b[0m\u001b[0;34m]\u001b[0m\u001b[0;34m)\u001b[0m\u001b[0;34m[\u001b[0m\u001b[0;34m\"Incidents Recorded\"\u001b[0m\u001b[0;34m]\u001b[0m\u001b[0;34m.\u001b[0m\u001b[0msum\u001b[0m\u001b[0;34m(\u001b[0m\u001b[0;34m)\u001b[0m\u001b[0;34m\u001b[0m\u001b[0;34m\u001b[0m\u001b[0m\n\u001b[0m\u001b[1;32m      2\u001b[0m \u001b[0mfilter_df\u001b[0m \u001b[0;34m=\u001b[0m \u001b[0mfilter_df\u001b[0m\u001b[0;34m.\u001b[0m\u001b[0mreset_index\u001b[0m\u001b[0;34m(\u001b[0m\u001b[0;34m)\u001b[0m\u001b[0;34m\u001b[0m\u001b[0;34m\u001b[0m\u001b[0m\n\u001b[1;32m      3\u001b[0m \u001b[0mfilter_df\u001b[0m\u001b[0;34m\u001b[0m\u001b[0;34m\u001b[0m\u001b[0m\n",
      "\u001b[0;32m~/opt/anaconda3/envs/bootcamp/lib/python3.7/site-packages/pandas/core/frame.py\u001b[0m in \u001b[0;36mgroupby\u001b[0;34m(self, by, axis, level, as_index, sort, group_keys, squeeze, observed, dropna)\u001b[0m\n\u001b[1;32m   7639\u001b[0m             \u001b[0msqueeze\u001b[0m\u001b[0;34m=\u001b[0m\u001b[0msqueeze\u001b[0m\u001b[0;34m,\u001b[0m  \u001b[0;31m# type: ignore[arg-type]\u001b[0m\u001b[0;34m\u001b[0m\u001b[0;34m\u001b[0m\u001b[0m\n\u001b[1;32m   7640\u001b[0m             \u001b[0mobserved\u001b[0m\u001b[0;34m=\u001b[0m\u001b[0mobserved\u001b[0m\u001b[0;34m,\u001b[0m\u001b[0;34m\u001b[0m\u001b[0;34m\u001b[0m\u001b[0m\n\u001b[0;32m-> 7641\u001b[0;31m             \u001b[0mdropna\u001b[0m\u001b[0;34m=\u001b[0m\u001b[0mdropna\u001b[0m\u001b[0;34m,\u001b[0m\u001b[0;34m\u001b[0m\u001b[0;34m\u001b[0m\u001b[0m\n\u001b[0m\u001b[1;32m   7642\u001b[0m         )\n\u001b[1;32m   7643\u001b[0m \u001b[0;34m\u001b[0m\u001b[0m\n",
      "\u001b[0;32m~/opt/anaconda3/envs/bootcamp/lib/python3.7/site-packages/pandas/core/groupby/groupby.py\u001b[0m in \u001b[0;36m__init__\u001b[0;34m(self, obj, keys, axis, level, grouper, exclusions, selection, as_index, sort, group_keys, squeeze, observed, mutated, dropna)\u001b[0m\n\u001b[1;32m    895\u001b[0m                 \u001b[0mobserved\u001b[0m\u001b[0;34m=\u001b[0m\u001b[0mobserved\u001b[0m\u001b[0;34m,\u001b[0m\u001b[0;34m\u001b[0m\u001b[0;34m\u001b[0m\u001b[0m\n\u001b[1;32m    896\u001b[0m                 \u001b[0mmutated\u001b[0m\u001b[0;34m=\u001b[0m\u001b[0mself\u001b[0m\u001b[0;34m.\u001b[0m\u001b[0mmutated\u001b[0m\u001b[0;34m,\u001b[0m\u001b[0;34m\u001b[0m\u001b[0;34m\u001b[0m\u001b[0m\n\u001b[0;32m--> 897\u001b[0;31m                 \u001b[0mdropna\u001b[0m\u001b[0;34m=\u001b[0m\u001b[0mself\u001b[0m\u001b[0;34m.\u001b[0m\u001b[0mdropna\u001b[0m\u001b[0;34m,\u001b[0m\u001b[0;34m\u001b[0m\u001b[0;34m\u001b[0m\u001b[0m\n\u001b[0m\u001b[1;32m    898\u001b[0m             )\n\u001b[1;32m    899\u001b[0m \u001b[0;34m\u001b[0m\u001b[0m\n",
      "\u001b[0;32m~/opt/anaconda3/envs/bootcamp/lib/python3.7/site-packages/pandas/core/groupby/grouper.py\u001b[0m in \u001b[0;36mget_grouper\u001b[0;34m(obj, key, axis, level, sort, observed, mutated, validate, dropna)\u001b[0m\n\u001b[1;32m    860\u001b[0m                 \u001b[0min_axis\u001b[0m\u001b[0;34m,\u001b[0m \u001b[0mlevel\u001b[0m\u001b[0;34m,\u001b[0m \u001b[0mgpr\u001b[0m \u001b[0;34m=\u001b[0m \u001b[0;32mFalse\u001b[0m\u001b[0;34m,\u001b[0m \u001b[0mgpr\u001b[0m\u001b[0;34m,\u001b[0m \u001b[0;32mNone\u001b[0m\u001b[0;34m\u001b[0m\u001b[0;34m\u001b[0m\u001b[0m\n\u001b[1;32m    861\u001b[0m             \u001b[0;32melse\u001b[0m\u001b[0;34m:\u001b[0m\u001b[0;34m\u001b[0m\u001b[0;34m\u001b[0m\u001b[0m\n\u001b[0;32m--> 862\u001b[0;31m                 \u001b[0;32mraise\u001b[0m \u001b[0mKeyError\u001b[0m\u001b[0;34m(\u001b[0m\u001b[0mgpr\u001b[0m\u001b[0;34m)\u001b[0m\u001b[0;34m\u001b[0m\u001b[0;34m\u001b[0m\u001b[0m\n\u001b[0m\u001b[1;32m    863\u001b[0m         \u001b[0;32melif\u001b[0m \u001b[0misinstance\u001b[0m\u001b[0;34m(\u001b[0m\u001b[0mgpr\u001b[0m\u001b[0;34m,\u001b[0m \u001b[0mGrouper\u001b[0m\u001b[0;34m)\u001b[0m \u001b[0;32mand\u001b[0m \u001b[0mgpr\u001b[0m\u001b[0;34m.\u001b[0m\u001b[0mkey\u001b[0m \u001b[0;32mis\u001b[0m \u001b[0;32mnot\u001b[0m \u001b[0;32mNone\u001b[0m\u001b[0;34m:\u001b[0m\u001b[0;34m\u001b[0m\u001b[0;34m\u001b[0m\u001b[0m\n\u001b[1;32m    864\u001b[0m             \u001b[0;31m# Add key to exclusions\u001b[0m\u001b[0;34m\u001b[0m\u001b[0;34m\u001b[0m\u001b[0;34m\u001b[0m\u001b[0m\n",
      "\u001b[0;31mKeyError\u001b[0m: 'Offence Division'"
     ]
    }
   ],
   "source": [
    "filter_df = all_df.groupby([\"Year\",\"Offence Division\",\"Offence Subdivision\"])[\"Incidents Recorded\"].sum()\n",
    "filter_df = filter_df.reset_index()\n",
    "filter_df"
   ]
  },
  {
   "cell_type": "code",
   "execution_count": 19,
   "id": "5affa664",
   "metadata": {},
   "outputs": [
    {
     "data": {
      "text/html": [
       "<div>\n",
       "<style scoped>\n",
       "    .dataframe tbody tr th:only-of-type {\n",
       "        vertical-align: middle;\n",
       "    }\n",
       "\n",
       "    .dataframe tbody tr th {\n",
       "        vertical-align: top;\n",
       "    }\n",
       "\n",
       "    .dataframe thead th {\n",
       "        text-align: right;\n",
       "    }\n",
       "</style>\n",
       "<table border=\"1\" class=\"dataframe\">\n",
       "  <thead>\n",
       "    <tr style=\"text-align: right;\">\n",
       "      <th></th>\n",
       "      <th>index</th>\n",
       "      <th>Year</th>\n",
       "      <th>Local Government Area</th>\n",
       "      <th>A Crimes against the person</th>\n",
       "      <th>B Property and deception offences</th>\n",
       "      <th>C Drug offences</th>\n",
       "      <th>D Public order and security offences</th>\n",
       "      <th>E Justice procedures offences</th>\n",
       "      <th>F Other offences</th>\n",
       "      <th>Police Region</th>\n",
       "    </tr>\n",
       "  </thead>\n",
       "  <tbody>\n",
       "    <tr>\n",
       "      <th>0</th>\n",
       "      <td>0</td>\n",
       "      <td>2019</td>\n",
       "      <td>Alpine</td>\n",
       "      <td>114</td>\n",
       "      <td>161</td>\n",
       "      <td>26.0</td>\n",
       "      <td>48</td>\n",
       "      <td>50</td>\n",
       "      <td>NaN</td>\n",
       "      <td>2 Eastern</td>\n",
       "    </tr>\n",
       "    <tr>\n",
       "      <th>1</th>\n",
       "      <td>1</td>\n",
       "      <td>2020</td>\n",
       "      <td>Alpine</td>\n",
       "      <td>92</td>\n",
       "      <td>220</td>\n",
       "      <td>24.0</td>\n",
       "      <td>47</td>\n",
       "      <td>52</td>\n",
       "      <td>4.0</td>\n",
       "      <td>2 Eastern</td>\n",
       "    </tr>\n",
       "    <tr>\n",
       "      <th>2</th>\n",
       "      <td>2</td>\n",
       "      <td>2021</td>\n",
       "      <td>Alpine</td>\n",
       "      <td>103</td>\n",
       "      <td>138</td>\n",
       "      <td>21.0</td>\n",
       "      <td>37</td>\n",
       "      <td>62</td>\n",
       "      <td>39.0</td>\n",
       "      <td>2 Eastern</td>\n",
       "    </tr>\n",
       "    <tr>\n",
       "      <th>3</th>\n",
       "      <td>3</td>\n",
       "      <td>2022</td>\n",
       "      <td>Alpine</td>\n",
       "      <td>86</td>\n",
       "      <td>149</td>\n",
       "      <td>16.0</td>\n",
       "      <td>33</td>\n",
       "      <td>61</td>\n",
       "      <td>25.0</td>\n",
       "      <td>2 Eastern</td>\n",
       "    </tr>\n",
       "    <tr>\n",
       "      <th>4</th>\n",
       "      <td>4</td>\n",
       "      <td>2019</td>\n",
       "      <td>Ararat</td>\n",
       "      <td>223</td>\n",
       "      <td>376</td>\n",
       "      <td>65.0</td>\n",
       "      <td>81</td>\n",
       "      <td>165</td>\n",
       "      <td>2.0</td>\n",
       "      <td>4 Western</td>\n",
       "    </tr>\n",
       "  </tbody>\n",
       "</table>\n",
       "</div>"
      ],
      "text/plain": [
       "   index  Year Local Government Area  A Crimes against the person  \\\n",
       "0      0  2019                Alpine                          114   \n",
       "1      1  2020                Alpine                           92   \n",
       "2      2  2021                Alpine                          103   \n",
       "3      3  2022                Alpine                           86   \n",
       "4      4  2019                Ararat                          223   \n",
       "\n",
       "   B Property and deception offences  C Drug offences  \\\n",
       "0                                161             26.0   \n",
       "1                                220             24.0   \n",
       "2                                138             21.0   \n",
       "3                                149             16.0   \n",
       "4                                376             65.0   \n",
       "\n",
       "   D Public order and security offences  E Justice procedures offences  \\\n",
       "0                                    48                             50   \n",
       "1                                    47                             52   \n",
       "2                                    37                             62   \n",
       "3                                    33                             61   \n",
       "4                                    81                            165   \n",
       "\n",
       "   F Other offences Police Region  \n",
       "0               NaN     2 Eastern  \n",
       "1               4.0     2 Eastern  \n",
       "2              39.0     2 Eastern  \n",
       "3              25.0     2 Eastern  \n",
       "4               2.0     4 Western  "
      ]
     },
     "execution_count": 19,
     "metadata": {},
     "output_type": "execute_result"
    }
   ],
   "source": [
    "all_df.head()"
   ]
  },
  {
   "cell_type": "markdown",
   "id": "249de2cd",
   "metadata": {},
   "source": [
    "## 4.  Transform Data for Analysis 2: Stacked Circles by Year, Offence Division and Offence Subdivision"
   ]
  },
  {
   "cell_type": "markdown",
   "id": "4dff3d3f",
   "metadata": {},
   "source": [
    "#### 4.1 Create flare for stacked Circles by Year, Offence Division and Offence Subdivision"
   ]
  },
  {
   "cell_type": "code",
   "execution_count": 20,
   "id": "bb2bfa6e",
   "metadata": {},
   "outputs": [
    {
     "ename": "NameError",
     "evalue": "name 'filter_df' is not defined",
     "output_type": "error",
     "traceback": [
      "\u001b[0;31m---------------------------------------------------------------------------\u001b[0m",
      "\u001b[0;31mNameError\u001b[0m                                 Traceback (most recent call last)",
      "\u001b[0;32m/var/folders/h4/302vnt9j1kb09wlh6m55qbt40000gn/T/ipykernel_53034/3733270120.py\u001b[0m in \u001b[0;36m<module>\u001b[0;34m\u001b[0m\n\u001b[1;32m      6\u001b[0m \u001b[0;34m\u001b[0m\u001b[0m\n\u001b[1;32m      7\u001b[0m \u001b[0;31m# iterate through dataframe values\u001b[0m\u001b[0;34m\u001b[0m\u001b[0;34m\u001b[0m\u001b[0;34m\u001b[0m\u001b[0m\n\u001b[0;32m----> 8\u001b[0;31m \u001b[0;32mfor\u001b[0m \u001b[0mrow\u001b[0m \u001b[0;32min\u001b[0m \u001b[0mfilter_df\u001b[0m\u001b[0;34m.\u001b[0m\u001b[0mvalues\u001b[0m\u001b[0;34m:\u001b[0m\u001b[0;34m\u001b[0m\u001b[0;34m\u001b[0m\u001b[0m\n\u001b[0m\u001b[1;32m      9\u001b[0m     \u001b[0mlevel0\u001b[0m \u001b[0;34m=\u001b[0m \u001b[0mrow\u001b[0m\u001b[0;34m[\u001b[0m\u001b[0;36m0\u001b[0m\u001b[0;34m]\u001b[0m\u001b[0;34m\u001b[0m\u001b[0;34m\u001b[0m\u001b[0m\n\u001b[1;32m     10\u001b[0m     \u001b[0mlevel1\u001b[0m \u001b[0;34m=\u001b[0m \u001b[0mrow\u001b[0m\u001b[0;34m[\u001b[0m\u001b[0;36m1\u001b[0m\u001b[0;34m]\u001b[0m\u001b[0;34m\u001b[0m\u001b[0;34m\u001b[0m\u001b[0m\n",
      "\u001b[0;31mNameError\u001b[0m: name 'filter_df' is not defined"
     ]
    }
   ],
   "source": [
    "import json\n",
    "\n",
    "#https://stackoverflow.com/questions/59946453/creating-a-flare-json-to-be-used-in-d3-from-pandas-dataframe\n",
    "#initialise a flare dictionary\n",
    "flare = {\"name\": \"flare\", \"children\": []}\n",
    "\n",
    "# iterate through dataframe values\n",
    "for row in filter_df.values:\n",
    "    level0 = row[0]\n",
    "    level1 = row[1]\n",
    "    level2 = row[2]\n",
    "    value = row[3]\n",
    "    \n",
    "    # create a dictionary with all the row data\n",
    "    d = {'name': level0,\n",
    "          'children': [{'name': level1,\n",
    "                        'children': [{'name': level2,\n",
    "                                      'value': value}]}]}\n",
    "    # initialize key lists\n",
    "    key0 = []\n",
    "    key1 = []\n",
    "\n",
    "    # iterate through first level node names\n",
    "    for i in flare['children']:\n",
    "        key0.append(i['name'])\n",
    "\n",
    "        # iterate through next level node names\n",
    "        key1 = []\n",
    "        for _, v in i.items():\n",
    "            if isinstance(v, list):\n",
    "                for x in v:\n",
    "                    key1.append(x['name'])\n",
    "\n",
    "    # add the full row of data if the root is not in key0\n",
    "    if level0 not in key0:\n",
    "        d = {'name': level0,\n",
    "              'children': [{'name': level1,\n",
    "                            'children': [{'name': level2,\n",
    "                                          'value': value}]}]}\n",
    "        flare['children'].append(d)\n",
    "\n",
    "    elif level1 not in key1:\n",
    "\n",
    "        # if the root exists, then append only the next level children\n",
    "\n",
    "        d = {'name': level1,\n",
    "              'children': [{'name': level2,\n",
    "                            'value': value}]}\n",
    "\n",
    "        flare['children'][key0.index(level0)]['children'].append(d)\n",
    "\n",
    "    else:\n",
    "\n",
    "        # if the root exists, then only append the next level children\n",
    "        \n",
    "        d = {'name': level2,\n",
    "             'value': value}\n",
    "\n",
    "        flare['children'][key0.index(level0)]['children'][key1.index(level1)]['children'].append(d)\n",
    "\n",
    "# uncomment next three lines to save as json file\n",
    "# save to some file\n",
    "with open('flare.json', 'w') as outfile:\n",
    "    json.dump(flare, outfile)\n",
    "\n",
    "print(json.dumps(flare, indent=2))"
   ]
  },
  {
   "cell_type": "code",
   "execution_count": null,
   "id": "795b1d3d",
   "metadata": {},
   "outputs": [],
   "source": []
  },
  {
   "cell_type": "code",
   "execution_count": null,
   "id": "4801a3cc",
   "metadata": {},
   "outputs": [],
   "source": []
  },
  {
   "cell_type": "code",
   "execution_count": null,
   "id": "0bb269ef",
   "metadata": {},
   "outputs": [],
   "source": []
  },
  {
   "cell_type": "code",
   "execution_count": null,
   "id": "bc67ead6",
   "metadata": {},
   "outputs": [],
   "source": []
  },
  {
   "cell_type": "code",
   "execution_count": null,
   "id": "e17478bf",
   "metadata": {},
   "outputs": [],
   "source": []
  },
  {
   "cell_type": "code",
   "execution_count": null,
   "id": "b832d6b2",
   "metadata": {},
   "outputs": [],
   "source": []
  }
 ],
 "metadata": {
  "kernelspec": {
   "display_name": "Python 3 (ipykernel)",
   "language": "python",
   "name": "python3"
  },
  "language_info": {
   "codemirror_mode": {
    "name": "ipython",
    "version": 3
   },
   "file_extension": ".py",
   "mimetype": "text/x-python",
   "name": "python",
   "nbconvert_exporter": "python",
   "pygments_lexer": "ipython3",
   "version": "3.7.13"
  },
  "vscode": {
   "interpreter": {
    "hash": "4abd1faf7b2b10f26f9a505c3653863b06b1faf2a2cb062f8cbb37e3c36c3d7f"
   }
  }
 },
 "nbformat": 4,
 "nbformat_minor": 5
}
